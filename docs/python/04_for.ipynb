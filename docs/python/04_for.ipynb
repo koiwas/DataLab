{
 "cells": [
  {
   "cell_type": "markdown",
   "id": "f1949e0b-b166-4559-a13f-27974252b222",
   "metadata": {},
   "source": [
    "# for Statements"
   ]
  },
  {
   "cell_type": "code",
   "execution_count": 1,
   "id": "ab85ca64-1efd-48f2-a31f-2f8c545ab4f5",
   "metadata": {
    "tags": []
   },
   "outputs": [],
   "source": [
    "colors = ['red', 'blue', 'yellow']"
   ]
  },
  {
   "cell_type": "code",
   "execution_count": 2,
   "id": "46459d12-df40-40d7-8526-efcc8b39419b",
   "metadata": {
    "tags": []
   },
   "outputs": [
    {
     "name": "stdout",
     "output_type": "stream",
     "text": [
      "red\n",
      "blue\n",
      "yellow\n"
     ]
    }
   ],
   "source": [
    "for color in colors:\n",
    "    print(color)"
   ]
  },
  {
   "cell_type": "code",
   "execution_count": 4,
   "id": "0a6ed46a-1f4b-4d3e-b169-488011f2bcbd",
   "metadata": {
    "tags": []
   },
   "outputs": [
    {
     "name": "stdout",
     "output_type": "stream",
     "text": [
      "0 red\n",
      "1 blue\n",
      "2 yellow\n"
     ]
    }
   ],
   "source": [
    "# enumerate\n",
    "for idx, color in enumerate(colors):\n",
    "    print(idx, color)"
   ]
  },
  {
   "cell_type": "code",
   "execution_count": 5,
   "id": "fd4bcdc2-44fe-43ed-83e6-22a7d014f18e",
   "metadata": {
    "tags": []
   },
   "outputs": [
    {
     "name": "stdout",
     "output_type": "stream",
     "text": [
      "0\n",
      "1\n",
      "2\n",
      "3\n",
      "4\n",
      "5\n",
      "6\n",
      "7\n",
      "8\n",
      "9\n"
     ]
    }
   ],
   "source": [
    "# range\n",
    "for i in range(10):\n",
    "    print(i)"
   ]
  },
  {
   "cell_type": "code",
   "execution_count": 7,
   "id": "470acd14-5e39-4a25-9700-e1c491206462",
   "metadata": {
    "tags": []
   },
   "outputs": [
    {
     "data": {
      "text/plain": [
       "['red.png', 'blue.png', 'yellow.png']"
      ]
     },
     "execution_count": 7,
     "metadata": {},
     "output_type": "execute_result"
    }
   ],
   "source": [
    "# リスト内包表記\n",
    "[f'{color}.png' for color in colors]"
   ]
  },
  {
   "cell_type": "code",
   "execution_count": 10,
   "id": "7b70f074-1b10-4ebb-94db-61652c971699",
   "metadata": {
    "tags": []
   },
   "outputs": [],
   "source": [
    "color_list = []\n",
    "for color in colors:\n",
    "    color_list.append(f'{color}.png')"
   ]
  },
  {
   "cell_type": "code",
   "execution_count": 11,
   "id": "949f395b-d325-4aee-a762-df724d50d6bc",
   "metadata": {
    "tags": []
   },
   "outputs": [
    {
     "data": {
      "text/plain": [
       "['red.png', 'blue.png', 'yellow.png']"
      ]
     },
     "execution_count": 11,
     "metadata": {},
     "output_type": "execute_result"
    }
   ],
   "source": [
    "color_list"
   ]
  }
 ],
 "metadata": {
  "kernelspec": {
   "display_name": "Python 3 (ipykernel)",
   "language": "python",
   "name": "python3"
  },
  "language_info": {
   "codemirror_mode": {
    "name": "ipython",
    "version": 3
   },
   "file_extension": ".py",
   "mimetype": "text/x-python",
   "name": "python",
   "nbconvert_exporter": "python",
   "pygments_lexer": "ipython3",
   "version": "3.11.4"
  }
 },
 "nbformat": 4,
 "nbformat_minor": 5
}
