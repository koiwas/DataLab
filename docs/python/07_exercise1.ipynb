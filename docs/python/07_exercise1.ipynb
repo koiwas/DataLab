{
 "cells": [
  {
   "cell_type": "markdown",
   "id": "6e28f5a0-8d7b-4566-b74b-2d90caba4646",
   "metadata": {},
   "source": [
    "# exercise1"
   ]
  },
  {
   "cell_type": "markdown",
   "id": "240ca252-adc4-4e86-8e16-0f92df0cd852",
   "metadata": {
    "tags": []
   },
   "source": [
    "リストを引数にして各要素に'_{index}.png'を付けたリストを返す関数"
   ]
  },
  {
   "cell_type": "code",
   "execution_count": 4,
   "id": "445bee5f-42ef-4804-8fa0-e02b2d13a440",
   "metadata": {
    "tags": []
   },
   "outputs": [],
   "source": [
    "colors = ['red', 'blue', 'yellow']"
   ]
  },
  {
   "cell_type": "code",
   "execution_count": 5,
   "id": "8818e9f2-a0bd-49c8-a9b2-acf13ff09c93",
   "metadata": {
    "tags": []
   },
   "outputs": [],
   "source": [
    "def add_png(file_list):\n",
    "    '''\n",
    "    hogehoge\n",
    "    \n",
    "    Prams\n",
    "    ----------\n",
    "        your_filelist: ファイル名のリスト\n",
    "        extension: 拡張子\n",
    "    \n",
    "    Return\n",
    "    ----------\n",
    "        result: '{filename}_[idx}.{extension}'\n",
    "        ['filename1'] ==>> ['filename1_0.png']\n",
    "    '''\n",
    "    result = []\n",
    "    for filename in file_list:\n",
    "        result.append(f'{filename}.png')\n",
    "    return result"
   ]
  },
  {
   "cell_type": "code",
   "execution_count": 14,
   "id": "acc16e5a-0c97-47bc-9409-627b75ef48b1",
   "metadata": {
    "tags": []
   },
   "outputs": [
    {
     "data": {
      "text/plain": [
       "['red.png', 'blue.png', 'yellow.png']"
      ]
     },
     "execution_count": 14,
     "metadata": {},
     "output_type": "execute_result"
    }
   ],
   "source": [
    "add_png(colors)"
   ]
  },
  {
   "cell_type": "code",
   "execution_count": 10,
   "id": "7d046357-bf44-448e-9395-59df385ab4cb",
   "metadata": {
    "tags": []
   },
   "outputs": [],
   "source": [
    "x = lambda l: [f'{f}.png' for f in l]"
   ]
  },
  {
   "cell_type": "code",
   "execution_count": 13,
   "id": "797c26e6-30b0-4f29-b9ec-3cb03012b246",
   "metadata": {
    "tags": []
   },
   "outputs": [
    {
     "data": {
      "text/plain": [
       "['red.png', 'blue.png', 'yellow.png']"
      ]
     },
     "execution_count": 13,
     "metadata": {},
     "output_type": "execute_result"
    }
   ],
   "source": [
    "x(colors)"
   ]
  }
 ],
 "metadata": {
  "kernelspec": {
   "display_name": "Python 3 (ipykernel)",
   "language": "python",
   "name": "python3"
  },
  "language_info": {
   "codemirror_mode": {
    "name": "ipython",
    "version": 3
   },
   "file_extension": ".py",
   "mimetype": "text/x-python",
   "name": "python",
   "nbconvert_exporter": "python",
   "pygments_lexer": "ipython3",
   "version": "3.11.4"
  }
 },
 "nbformat": 4,
 "nbformat_minor": 5
}
