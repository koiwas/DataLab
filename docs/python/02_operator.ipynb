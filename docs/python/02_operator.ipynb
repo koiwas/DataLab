{
 "cells": [
  {
   "cell_type": "markdown",
   "id": "5b6cecee-c7be-453c-97a4-3b49645715e5",
   "metadata": {},
   "source": [
    "# Operator"
   ]
  },
  {
   "cell_type": "markdown",
   "id": "1dd97764-8435-4107-8801-2ba97e32ef6d",
   "metadata": {},
   "source": [
    "## 算術演算子"
   ]
  },
  {
   "cell_type": "code",
   "execution_count": 1,
   "id": "78be7b35-7e70-45c6-a5be-f1543c40e889",
   "metadata": {
    "tags": []
   },
   "outputs": [
    {
     "data": {
      "text/plain": [
       "2"
      ]
     },
     "execution_count": 1,
     "metadata": {},
     "output_type": "execute_result"
    }
   ],
   "source": [
    "# 加算\n",
    "1 + 1"
   ]
  },
  {
   "cell_type": "code",
   "execution_count": 2,
   "id": "ef91a97b-45b6-42c8-b7f4-8720c660c964",
   "metadata": {
    "tags": []
   },
   "outputs": [
    {
     "data": {
      "text/plain": [
       "1"
      ]
     },
     "execution_count": 2,
     "metadata": {},
     "output_type": "execute_result"
    }
   ],
   "source": [
    "# 減算\n",
    "2 - 1"
   ]
  },
  {
   "cell_type": "code",
   "execution_count": 3,
   "id": "34ac4a4e-e5af-43b2-bd37-8b3f66e2aca0",
   "metadata": {
    "tags": []
   },
   "outputs": [
    {
     "data": {
      "text/plain": [
       "6"
      ]
     },
     "execution_count": 3,
     "metadata": {},
     "output_type": "execute_result"
    }
   ],
   "source": [
    "# 乗算\n",
    "2 * 3"
   ]
  },
  {
   "cell_type": "code",
   "execution_count": 7,
   "id": "11e295b7-c873-4a17-a74c-60f621ed5b8c",
   "metadata": {
    "tags": []
   },
   "outputs": [
    {
     "data": {
      "text/plain": [
       "2.5"
      ]
     },
     "execution_count": 7,
     "metadata": {},
     "output_type": "execute_result"
    }
   ],
   "source": [
    "# 除算\n",
    "5 / 2"
   ]
  },
  {
   "cell_type": "code",
   "execution_count": 8,
   "id": "d0329abe-6e1c-4cae-9e3e-5beaaf7302d4",
   "metadata": {
    "tags": []
   },
   "outputs": [
    {
     "data": {
      "text/plain": [
       "2"
      ]
     },
     "execution_count": 8,
     "metadata": {},
     "output_type": "execute_result"
    }
   ],
   "source": [
    "# 商\n",
    "5 // 2"
   ]
  },
  {
   "cell_type": "code",
   "execution_count": 9,
   "id": "bffcef50-c7c8-4491-966b-e7aca61da9c4",
   "metadata": {
    "tags": []
   },
   "outputs": [
    {
     "data": {
      "text/plain": [
       "1"
      ]
     },
     "execution_count": 9,
     "metadata": {},
     "output_type": "execute_result"
    }
   ],
   "source": [
    "# 剰余\n",
    "5 % 2"
   ]
  },
  {
   "cell_type": "code",
   "execution_count": 10,
   "id": "6c3f33d0-ee1b-4e45-8cab-e81c5c48e4a6",
   "metadata": {
    "tags": []
   },
   "outputs": [
    {
     "data": {
      "text/plain": [
       "8"
      ]
     },
     "execution_count": 10,
     "metadata": {},
     "output_type": "execute_result"
    }
   ],
   "source": [
    "# べき乗\n",
    "2 ** 3"
   ]
  },
  {
   "cell_type": "markdown",
   "id": "78342e47-fb9e-42b0-a213-7cbd1bb5fe8c",
   "metadata": {},
   "source": [
    "## 比較演算子・論理演算子"
   ]
  },
  {
   "cell_type": "code",
   "execution_count": 11,
   "id": "e53e2571-1c0e-4a8e-8d32-c91d81ef7fc1",
   "metadata": {
    "tags": []
   },
   "outputs": [
    {
     "data": {
      "text/plain": [
       "True"
      ]
     },
     "execution_count": 11,
     "metadata": {},
     "output_type": "execute_result"
    }
   ],
   "source": [
    "(2 > 1) and (3 >= 3)"
   ]
  },
  {
   "cell_type": "code",
   "execution_count": 13,
   "id": "a4f37633-f237-4845-9d48-0df11eabc29b",
   "metadata": {
    "tags": []
   },
   "outputs": [
    {
     "data": {
      "text/plain": [
       "True"
      ]
     },
     "execution_count": 13,
     "metadata": {},
     "output_type": "execute_result"
    }
   ],
   "source": [
    "# 左側がtrueであれば右側は評価しない\n",
    "(1 == 1) or (1 != 1)"
   ]
  }
 ],
 "metadata": {
  "kernelspec": {
   "display_name": "Python 3 (ipykernel)",
   "language": "python",
   "name": "python3"
  },
  "language_info": {
   "codemirror_mode": {
    "name": "ipython",
    "version": 3
   },
   "file_extension": ".py",
   "mimetype": "text/x-python",
   "name": "python",
   "nbconvert_exporter": "python",
   "pygments_lexer": "ipython3",
   "version": "3.11.4"
  }
 },
 "nbformat": 4,
 "nbformat_minor": 5
}
