{
 "cells": [
  {
   "cell_type": "markdown",
   "id": "f5228071-0cec-4fcd-904d-551b8f01f2d7",
   "metadata": {},
   "source": [
    "# args"
   ]
  },
  {
   "cell_type": "markdown",
   "id": "efd95ccc-d17d-4ea3-85d3-eb0d97bdf135",
   "metadata": {},
   "source": [
    "## packing"
   ]
  },
  {
   "cell_type": "markdown",
   "id": "3c3eca16-71dc-4ee4-843c-8dad23e169eb",
   "metadata": {},
   "source": [
    "### args"
   ]
  },
  {
   "cell_type": "code",
   "execution_count": 8,
   "id": "9a61af7d-b9ce-41c3-aecb-e487aed1ad03",
   "metadata": {
    "tags": []
   },
   "outputs": [],
   "source": [
    "# 引数をタプルで受け取る\n",
    "def return_args(*args):\n",
    "    print('args:', args)\n",
    "    print('type:', type(args))"
   ]
  },
  {
   "cell_type": "code",
   "execution_count": 9,
   "id": "5321c357-714f-412a-9ed5-fd2b8b248929",
   "metadata": {
    "tags": []
   },
   "outputs": [
    {
     "name": "stdout",
     "output_type": "stream",
     "text": [
      "args: (1, 2, 3)\n",
      "type: <class 'tuple'>\n"
     ]
    }
   ],
   "source": [
    "return_args(1,2,3)"
   ]
  },
  {
   "cell_type": "code",
   "execution_count": 14,
   "id": "20126791-3a83-44e9-bbaf-907a490f7bcf",
   "metadata": {
    "tags": []
   },
   "outputs": [],
   "source": [
    "def judge_png(*args):\n",
    "    print('args:', args)\n",
    "    png_list = []\n",
    "    for filename in args:\n",
    "        extension = filename.split('.')[-1]\n",
    "        if extension == 'png':\n",
    "            png_list.append(filename)\n",
    "    return png_list"
   ]
  },
  {
   "cell_type": "code",
   "execution_count": 15,
   "id": "7fc58773-dea7-414f-afab-1208660d9540",
   "metadata": {
    "tags": []
   },
   "outputs": [
    {
     "name": "stdout",
     "output_type": "stream",
     "text": [
      "args: ('image1.png', 'image2.jpg', 'image3.png')\n"
     ]
    }
   ],
   "source": [
    "result = judge_png('image1.png', 'image2.jpg', 'image3.png')"
   ]
  },
  {
   "cell_type": "code",
   "execution_count": 16,
   "id": "016ab6a1-5664-43ae-beae-912fbafd0ff6",
   "metadata": {
    "tags": []
   },
   "outputs": [
    {
     "data": {
      "text/plain": [
       "['image1.png', 'image3.png']"
      ]
     },
     "execution_count": 16,
     "metadata": {},
     "output_type": "execute_result"
    }
   ],
   "source": [
    "result"
   ]
  },
  {
   "cell_type": "markdown",
   "id": "ef4906ba-171b-4d5a-8d2b-9775f8ad70c2",
   "metadata": {},
   "source": [
    "### kwargs"
   ]
  },
  {
   "cell_type": "code",
   "execution_count": 21,
   "id": "e88b29b5-c105-4e93-adb2-c3ec7b6ca9fa",
   "metadata": {
    "tags": []
   },
   "outputs": [],
   "source": [
    "# 引数を辞書で受け取る\n",
    "def return_kwargs(**kwargs):\n",
    "    print('kwargs:', kwargs)\n",
    "    print('type:', type(kwargs))\n",
    "    print('a is', kwargs.get('a'))"
   ]
  },
  {
   "cell_type": "code",
   "execution_count": 22,
   "id": "662bd068-0963-4fa0-8b8d-12bc34081aa8",
   "metadata": {
    "tags": []
   },
   "outputs": [
    {
     "name": "stdout",
     "output_type": "stream",
     "text": [
      "kwargs: {'a': 1, 'b': 2}\n",
      "type: <class 'dict'>\n",
      "a is 1\n"
     ]
    }
   ],
   "source": [
    "return_kwargs(a=1, b=2)"
   ]
  },
  {
   "cell_type": "markdown",
   "id": "22e63d00-5626-4ebe-befd-84317ca85fbb",
   "metadata": {},
   "source": [
    "## unpacking"
   ]
  },
  {
   "cell_type": "code",
   "execution_count": 28,
   "id": "8c69312e-5481-4bd0-bc03-2b6cc6aa0f00",
   "metadata": {
    "tags": []
   },
   "outputs": [
    {
     "name": "stdout",
     "output_type": "stream",
     "text": [
      "1 2 3\n"
     ]
    }
   ],
   "source": [
    "# list\n",
    "print(*[1,2,3])"
   ]
  },
  {
   "cell_type": "code",
   "execution_count": 30,
   "id": "2118eacc-3492-4cdf-a330-d202e9fee67a",
   "metadata": {
    "tags": []
   },
   "outputs": [
    {
     "name": "stdout",
     "output_type": "stream",
     "text": [
      "{'a': 1, 'b': 2, 'c': 3, 'd': 4}\n"
     ]
    }
   ],
   "source": [
    "# dict\n",
    "print({**{'a': 1, 'b':2}, **{'c': 3, 'd': 4}})"
   ]
  },
  {
   "cell_type": "markdown",
   "id": "110e6f7f-66bd-4cfc-95be-e6c273f6174d",
   "metadata": {
    "tags": []
   },
   "source": [
    "### rapper"
   ]
  },
  {
   "cell_type": "code",
   "execution_count": 33,
   "id": "766d2d75-97cd-481b-bf10-59ef378024c1",
   "metadata": {
    "tags": []
   },
   "outputs": [],
   "source": [
    "def add_extension(filename, extension='.jpg'):\n",
    "    return '{}{}'.format(filename, extension)"
   ]
  },
  {
   "cell_type": "code",
   "execution_count": 43,
   "id": "7cc96418-bf4a-46c4-ab96-fc9850b01985",
   "metadata": {
    "tags": []
   },
   "outputs": [],
   "source": [
    "def wrap_add_extension(args):\n",
    "    return add_extension(*args)"
   ]
  },
  {
   "cell_type": "code",
   "execution_count": 44,
   "id": "682b5294-39af-4805-bc93-0ac9180fc861",
   "metadata": {
    "tags": []
   },
   "outputs": [],
   "source": [
    "arg = ('hoge', '.png')"
   ]
  },
  {
   "cell_type": "code",
   "execution_count": 45,
   "id": "dd280474-21d0-44c5-a852-56cbecdfa49d",
   "metadata": {
    "tags": []
   },
   "outputs": [
    {
     "data": {
      "text/plain": [
       "'hoge.png'"
      ]
     },
     "execution_count": 45,
     "metadata": {},
     "output_type": "execute_result"
    }
   ],
   "source": [
    "wrap_add_extension(arg)"
   ]
  },
  {
   "cell_type": "code",
   "execution_count": 46,
   "id": "d43306d0-c751-45e1-a2df-8a158800837d",
   "metadata": {
    "tags": []
   },
   "outputs": [],
   "source": [
    "arg_list = [('hoge', '.png'), ('hoge', '.txt'), ('hoge', '.jpg')]"
   ]
  },
  {
   "cell_type": "code",
   "execution_count": 47,
   "id": "de6ea621-63d0-43f6-8f63-476d96b15706",
   "metadata": {
    "tags": []
   },
   "outputs": [
    {
     "data": {
      "text/plain": [
       "['hoge.png', 'hoge.txt', 'hoge.jpg']"
      ]
     },
     "execution_count": 47,
     "metadata": {},
     "output_type": "execute_result"
    }
   ],
   "source": [
    "[wrap_add_extension(arg) for arg in arg_list]"
   ]
  }
 ],
 "metadata": {
  "kernelspec": {
   "display_name": "Python 3 (ipykernel)",
   "language": "python",
   "name": "python3"
  },
  "language_info": {
   "codemirror_mode": {
    "name": "ipython",
    "version": 3
   },
   "file_extension": ".py",
   "mimetype": "text/x-python",
   "name": "python",
   "nbconvert_exporter": "python",
   "pygments_lexer": "ipython3",
   "version": "3.11.4"
  }
 },
 "nbformat": 4,
 "nbformat_minor": 5
}
