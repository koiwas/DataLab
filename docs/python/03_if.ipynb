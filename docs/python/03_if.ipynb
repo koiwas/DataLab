{
 "cells": [
  {
   "cell_type": "markdown",
   "id": "949ae7af-17aa-453c-80e1-68c38524c7cd",
   "metadata": {},
   "source": [
    "# if Statements"
   ]
  },
  {
   "cell_type": "code",
   "execution_count": 1,
   "id": "24d61f38-3f91-4270-95a3-c9e3204d9f7a",
   "metadata": {
    "tags": []
   },
   "outputs": [],
   "source": [
    "a = 1"
   ]
  },
  {
   "cell_type": "code",
   "execution_count": 2,
   "id": "bcdf8ecd-9677-4866-8b3e-5aa723ad0e26",
   "metadata": {
    "tags": []
   },
   "outputs": [
    {
     "name": "stdout",
     "output_type": "stream",
     "text": [
      "a is one\n"
     ]
    }
   ],
   "source": [
    "if a == 1:\n",
    "    print('a is one')\n",
    "elif a > 1:\n",
    "    print('a is more than one')\n",
    "elif a < 1:\n",
    "    print('a is less than one')\n",
    "else:\n",
    "    print('a is something else')"
   ]
  },
  {
   "cell_type": "code",
   "execution_count": 4,
   "id": "49b4d9fc-f43d-48d9-ab95-a4f001193e45",
   "metadata": {
    "tags": []
   },
   "outputs": [
    {
     "name": "stdout",
     "output_type": "stream",
     "text": [
      "a is one\n"
     ]
    }
   ],
   "source": [
    "# 三項演算子\n",
    "print('a is one') if a == 1 else print('a is not one')"
   ]
  }
 ],
 "metadata": {
  "kernelspec": {
   "display_name": "Python 3 (ipykernel)",
   "language": "python",
   "name": "python3"
  },
  "language_info": {
   "codemirror_mode": {
    "name": "ipython",
    "version": 3
   },
   "file_extension": ".py",
   "mimetype": "text/x-python",
   "name": "python",
   "nbconvert_exporter": "python",
   "pygments_lexer": "ipython3",
   "version": "3.11.4"
  }
 },
 "nbformat": 4,
 "nbformat_minor": 5
}
