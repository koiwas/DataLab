{
 "cells": [
  {
   "cell_type": "markdown",
   "id": "844ef7cf-a008-4dd5-98e9-1c847dddc5aa",
   "metadata": {},
   "source": [
    "# function"
   ]
  },
  {
   "cell_type": "code",
   "execution_count": 1,
   "id": "557580b7-e004-4080-9b8d-d260a3ad9244",
   "metadata": {
    "tags": []
   },
   "outputs": [],
   "source": [
    "def squard(a):\n",
    "    return a ** 2"
   ]
  },
  {
   "cell_type": "code",
   "execution_count": 2,
   "id": "559da3db-28fd-4e80-a512-f3261a653e42",
   "metadata": {
    "tags": []
   },
   "outputs": [],
   "source": [
    "result = squard(3)"
   ]
  },
  {
   "cell_type": "code",
   "execution_count": 3,
   "id": "1cf26605-7f19-42f7-9c87-6378ce814caf",
   "metadata": {
    "tags": []
   },
   "outputs": [
    {
     "data": {
      "text/plain": [
       "9"
      ]
     },
     "execution_count": 3,
     "metadata": {},
     "output_type": "execute_result"
    }
   ],
   "source": [
    "result"
   ]
  },
  {
   "cell_type": "code",
   "execution_count": 6,
   "id": "28ba9f94-7da0-4803-bf00-2015387e61d3",
   "metadata": {
    "tags": []
   },
   "outputs": [],
   "source": [
    "def color_judge(color_list):\n",
    "    favorite_color = 'blue'\n",
    "    for color in color_list:\n",
    "        if color == favorite_color:\n",
    "            print(f'{color} is my favorite color')\n",
    "        else:\n",
    "            print(f'{color} is not my favorite color')"
   ]
  },
  {
   "cell_type": "code",
   "execution_count": 7,
   "id": "202c7dd6-583a-41e0-bb8e-aec411e7cc55",
   "metadata": {
    "tags": []
   },
   "outputs": [],
   "source": [
    "colors = ['red', 'blue', 'yellow']"
   ]
  },
  {
   "cell_type": "code",
   "execution_count": 8,
   "id": "19e6f4bf-7579-4a50-b87f-372de9066262",
   "metadata": {
    "tags": []
   },
   "outputs": [
    {
     "name": "stdout",
     "output_type": "stream",
     "text": [
      "red is not my favorite color\n",
      "blue is my favorite color\n",
      "yellow is not my favorite color\n"
     ]
    }
   ],
   "source": [
    "color_judge(colors)"
   ]
  },
  {
   "cell_type": "code",
   "execution_count": 10,
   "id": "713a1bdb-9253-4b22-a837-927fdca1372b",
   "metadata": {
    "tags": []
   },
   "outputs": [],
   "source": [
    "# lambda関数\n",
    "x = lambda a: a ** 2"
   ]
  },
  {
   "cell_type": "code",
   "execution_count": 12,
   "id": "bf256920-2b78-406d-90ba-f01c9b89a66d",
   "metadata": {
    "tags": []
   },
   "outputs": [
    {
     "data": {
      "text/plain": [
       "9"
      ]
     },
     "execution_count": 12,
     "metadata": {},
     "output_type": "execute_result"
    }
   ],
   "source": [
    "x(3)"
   ]
  }
 ],
 "metadata": {
  "kernelspec": {
   "display_name": "Python 3 (ipykernel)",
   "language": "python",
   "name": "python3"
  },
  "language_info": {
   "codemirror_mode": {
    "name": "ipython",
    "version": 3
   },
   "file_extension": ".py",
   "mimetype": "text/x-python",
   "name": "python",
   "nbconvert_exporter": "python",
   "pygments_lexer": "ipython3",
   "version": "3.11.4"
  }
 },
 "nbformat": 4,
 "nbformat_minor": 5
}
