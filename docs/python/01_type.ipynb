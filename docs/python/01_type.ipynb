{
 "cells": [
  {
   "cell_type": "markdown",
   "id": "7be0db1d-dd2c-45b9-be2e-6d4af026b000",
   "metadata": {},
   "source": [
    "# Data types"
   ]
  },
  {
   "cell_type": "markdown",
   "id": "40291679-8e6f-40f8-80d5-f9640e2f1310",
   "metadata": {},
   "source": [
    "## int, float"
   ]
  },
  {
   "cell_type": "code",
   "execution_count": 2,
   "id": "e4ed1faa-aeea-489f-ab44-b19a1979f753",
   "metadata": {
    "tags": []
   },
   "outputs": [
    {
     "data": {
      "text/plain": [
       "int"
      ]
     },
     "execution_count": 2,
     "metadata": {},
     "output_type": "execute_result"
    }
   ],
   "source": [
    "type(1)"
   ]
  },
  {
   "cell_type": "code",
   "execution_count": 3,
   "id": "6f551f59-488c-423e-8170-c38a36f64834",
   "metadata": {
    "tags": []
   },
   "outputs": [
    {
     "data": {
      "text/plain": [
       "float"
      ]
     },
     "execution_count": 3,
     "metadata": {},
     "output_type": "execute_result"
    }
   ],
   "source": [
    "type(1.1)"
   ]
  },
  {
   "cell_type": "code",
   "execution_count": 4,
   "id": "d823a200-795f-44db-be3a-0306b65cab1e",
   "metadata": {
    "tags": []
   },
   "outputs": [
    {
     "data": {
      "text/plain": [
       "float"
      ]
     },
     "execution_count": 4,
     "metadata": {},
     "output_type": "execute_result"
    }
   ],
   "source": [
    "type(1 + 1.1)"
   ]
  },
  {
   "cell_type": "markdown",
   "id": "53eb65cc-ee6c-424c-a776-0a7375479e1f",
   "metadata": {
    "tags": []
   },
   "source": [
    "## string"
   ]
  },
  {
   "cell_type": "code",
   "execution_count": 5,
   "id": "34b89200-4ebe-4486-94aa-e81c9cb02793",
   "metadata": {
    "tags": []
   },
   "outputs": [
    {
     "data": {
      "text/plain": [
       "str"
      ]
     },
     "execution_count": 5,
     "metadata": {},
     "output_type": "execute_result"
    }
   ],
   "source": [
    "type('banana')"
   ]
  },
  {
   "cell_type": "markdown",
   "id": "c5255710-197a-476d-b7f1-b97745d13984",
   "metadata": {
    "tags": []
   },
   "source": [
    "### slicing"
   ]
  },
  {
   "cell_type": "code",
   "execution_count": 6,
   "id": "e572834f-5f1e-48f4-bf65-7cf58fae2d5c",
   "metadata": {
    "tags": []
   },
   "outputs": [
    {
     "data": {
      "text/plain": [
       "'b'"
      ]
     },
     "execution_count": 6,
     "metadata": {},
     "output_type": "execute_result"
    }
   ],
   "source": [
    "'banana'[0]"
   ]
  },
  {
   "cell_type": "code",
   "execution_count": 7,
   "id": "d9a83295-f5e8-455a-bfee-f5f959d342e8",
   "metadata": {
    "tags": []
   },
   "outputs": [
    {
     "data": {
      "text/plain": [
       "'an'"
      ]
     },
     "execution_count": 7,
     "metadata": {},
     "output_type": "execute_result"
    }
   ],
   "source": [
    "'banana'[1:3]"
   ]
  },
  {
   "cell_type": "code",
   "execution_count": 8,
   "id": "7a679833-d640-4f24-90e5-18c99ba32c1a",
   "metadata": {
    "tags": []
   },
   "outputs": [
    {
     "data": {
      "text/plain": [
       "'banana'"
      ]
     },
     "execution_count": 8,
     "metadata": {},
     "output_type": "execute_result"
    }
   ],
   "source": [
    "'banana.png'[:-4]"
   ]
  },
  {
   "cell_type": "markdown",
   "id": "18213883-2428-4492-a949-ab9158d0b68f",
   "metadata": {},
   "source": [
    "### format"
   ]
  },
  {
   "cell_type": "code",
   "execution_count": 9,
   "id": "93624d80-7e7d-450e-ac08-6124425cb2f2",
   "metadata": {
    "tags": []
   },
   "outputs": [],
   "source": [
    "favorite_fruit = 'banana'"
   ]
  },
  {
   "cell_type": "code",
   "execution_count": 12,
   "id": "bba4e614-a7e6-406a-b27b-9f38dbd92f9b",
   "metadata": {
    "tags": []
   },
   "outputs": [
    {
     "data": {
      "text/plain": [
       "'favorite fruit is banana'"
      ]
     },
     "execution_count": 12,
     "metadata": {},
     "output_type": "execute_result"
    }
   ],
   "source": [
    "'favorite' + ' ' + 'fruit' + ' ' + 'is' + ' ' + favorite_fruit"
   ]
  },
  {
   "cell_type": "code",
   "execution_count": 16,
   "id": "bcb58714-8e89-4ed3-972a-9c99001f0ee5",
   "metadata": {
    "tags": []
   },
   "outputs": [
    {
     "data": {
      "text/plain": [
       "'favorite fruit is banana'"
      ]
     },
     "execution_count": 16,
     "metadata": {},
     "output_type": "execute_result"
    }
   ],
   "source": [
    "# .format\n",
    "'favorite fruit is {}'.format(favorite_fruit)"
   ]
  },
  {
   "cell_type": "code",
   "execution_count": 17,
   "id": "f05fc2f6-be17-404c-ad68-ea56f3446b23",
   "metadata": {
    "tags": []
   },
   "outputs": [
    {
     "data": {
      "text/plain": [
       "'favorite fruit is banana'"
      ]
     },
     "execution_count": 17,
     "metadata": {},
     "output_type": "execute_result"
    }
   ],
   "source": [
    "# fstring\n",
    "f'favorite fruit is {favorite_fruit}'"
   ]
  },
  {
   "cell_type": "markdown",
   "id": "1c377999-d4e9-4510-bc14-be6881e8cf46",
   "metadata": {},
   "source": [
    "## list"
   ]
  },
  {
   "cell_type": "code",
   "execution_count": 18,
   "id": "623a6b62-5293-4a5d-b3a5-0e7a68cd739e",
   "metadata": {
    "tags": []
   },
   "outputs": [
    {
     "data": {
      "text/plain": [
       "list"
      ]
     },
     "execution_count": 18,
     "metadata": {},
     "output_type": "execute_result"
    }
   ],
   "source": [
    "type([1,2,3])"
   ]
  },
  {
   "cell_type": "code",
   "execution_count": 19,
   "id": "81f58c5e-936c-4233-83be-40d5905237ba",
   "metadata": {
    "tags": []
   },
   "outputs": [],
   "source": [
    "l = [1,2,3]"
   ]
  },
  {
   "cell_type": "markdown",
   "id": "a0f901ea-63b0-4994-98d6-435c8c920a0e",
   "metadata": {},
   "source": [
    "### slicing"
   ]
  },
  {
   "cell_type": "code",
   "execution_count": 20,
   "id": "6c6be767-9348-4dfc-9876-e109080f007d",
   "metadata": {
    "tags": []
   },
   "outputs": [
    {
     "data": {
      "text/plain": [
       "1"
      ]
     },
     "execution_count": 20,
     "metadata": {},
     "output_type": "execute_result"
    }
   ],
   "source": [
    "l[0]"
   ]
  },
  {
   "cell_type": "code",
   "execution_count": 21,
   "id": "f9ec745b-b8db-4174-b3a0-596f9b7d7d3b",
   "metadata": {
    "tags": []
   },
   "outputs": [
    {
     "data": {
      "text/plain": [
       "[2]"
      ]
     },
     "execution_count": 21,
     "metadata": {},
     "output_type": "execute_result"
    }
   ],
   "source": [
    "l[1:2]"
   ]
  },
  {
   "cell_type": "markdown",
   "id": "ba202c35-bf50-4002-9ea6-f46d6964a69b",
   "metadata": {},
   "source": [
    "### append"
   ]
  },
  {
   "cell_type": "code",
   "execution_count": 23,
   "id": "c9de39b8-914f-4878-865e-59122f67d499",
   "metadata": {
    "tags": []
   },
   "outputs": [],
   "source": [
    "l.append(4)"
   ]
  },
  {
   "cell_type": "code",
   "execution_count": 24,
   "id": "1ce30851-2300-4641-8353-8f281c08d29c",
   "metadata": {
    "tags": []
   },
   "outputs": [
    {
     "data": {
      "text/plain": [
       "[1, 2, 3, 4]"
      ]
     },
     "execution_count": 24,
     "metadata": {},
     "output_type": "execute_result"
    }
   ],
   "source": [
    "l"
   ]
  },
  {
   "cell_type": "markdown",
   "id": "861a33b4-07aa-46a2-87a3-e6a7d972560a",
   "metadata": {},
   "source": [
    "### merge"
   ]
  },
  {
   "cell_type": "code",
   "execution_count": 25,
   "id": "081c3357-816b-4841-b7b1-02df7ee75152",
   "metadata": {
    "tags": []
   },
   "outputs": [
    {
     "data": {
      "text/plain": [
       "[1, 2, 3, 4, 5, 6]"
      ]
     },
     "execution_count": 25,
     "metadata": {},
     "output_type": "execute_result"
    }
   ],
   "source": [
    "[1,2,3] + [4,5,6]"
   ]
  },
  {
   "cell_type": "markdown",
   "id": "a233c5ec-f966-4f5f-8545-790925be9100",
   "metadata": {},
   "source": [
    "## dictionary"
   ]
  },
  {
   "cell_type": "code",
   "execution_count": 27,
   "id": "1697b055-f116-44e6-adc8-b717677cdec1",
   "metadata": {
    "tags": []
   },
   "outputs": [
    {
     "data": {
      "text/plain": [
       "dict"
      ]
     },
     "execution_count": 27,
     "metadata": {},
     "output_type": "execute_result"
    }
   ],
   "source": [
    "type({'apple': 'リンゴ', 'banana': 'バナナ'})"
   ]
  },
  {
   "cell_type": "code",
   "execution_count": 28,
   "id": "51583f93-3dc8-4653-8428-f9a547dc50cb",
   "metadata": {
    "tags": []
   },
   "outputs": [],
   "source": [
    "d = {'apple': 'リンゴ', 'banana': 'バナナ'}"
   ]
  },
  {
   "cell_type": "code",
   "execution_count": 29,
   "id": "b32ef1cf-de89-4108-b100-8c4810e4c7d2",
   "metadata": {
    "tags": []
   },
   "outputs": [
    {
     "data": {
      "text/plain": [
       "'リンゴ'"
      ]
     },
     "execution_count": 29,
     "metadata": {},
     "output_type": "execute_result"
    }
   ],
   "source": [
    "d['apple']"
   ]
  },
  {
   "cell_type": "code",
   "execution_count": 30,
   "id": "8586636d-c9bc-489c-8b72-0656de33c9eb",
   "metadata": {
    "tags": []
   },
   "outputs": [],
   "source": [
    "d['kiwi'] = 'キウイ'"
   ]
  },
  {
   "cell_type": "code",
   "execution_count": 31,
   "id": "94b669dc-921e-43c6-96cb-5c11690fa261",
   "metadata": {
    "tags": []
   },
   "outputs": [
    {
     "data": {
      "text/plain": [
       "{'apple': 'リンゴ', 'banana': 'バナナ', 'kiwi': 'キウイ'}"
      ]
     },
     "execution_count": 31,
     "metadata": {},
     "output_type": "execute_result"
    }
   ],
   "source": [
    "d"
   ]
  },
  {
   "cell_type": "markdown",
   "id": "4f0320bc-d0fe-49bd-ab32-db2f406ed655",
   "metadata": {},
   "source": [
    "## bool"
   ]
  },
  {
   "cell_type": "code",
   "execution_count": 32,
   "id": "e8f2c74d-3a3a-4a14-a1a1-9158411ff0aa",
   "metadata": {
    "tags": []
   },
   "outputs": [
    {
     "data": {
      "text/plain": [
       "True"
      ]
     },
     "execution_count": 32,
     "metadata": {},
     "output_type": "execute_result"
    }
   ],
   "source": [
    "True"
   ]
  },
  {
   "cell_type": "code",
   "execution_count": 33,
   "id": "f81e201b-5f42-40c2-9253-440dfe5cafaa",
   "metadata": {
    "tags": []
   },
   "outputs": [
    {
     "data": {
      "text/plain": [
       "False"
      ]
     },
     "execution_count": 33,
     "metadata": {},
     "output_type": "execute_result"
    }
   ],
   "source": [
    "False"
   ]
  },
  {
   "cell_type": "markdown",
   "id": "949ace52-e9c3-4416-afed-65636d931193",
   "metadata": {},
   "source": [
    "## tuple"
   ]
  },
  {
   "cell_type": "code",
   "execution_count": 34,
   "id": "65c65711-ba81-40fb-aea5-758e65d25070",
   "metadata": {
    "tags": []
   },
   "outputs": [
    {
     "data": {
      "text/plain": [
       "tuple"
      ]
     },
     "execution_count": 34,
     "metadata": {},
     "output_type": "execute_result"
    }
   ],
   "source": [
    "type((1,2,3))"
   ]
  },
  {
   "cell_type": "markdown",
   "id": "98cce099-b9d5-40db-85df-90743142c7b9",
   "metadata": {},
   "source": [
    "## set"
   ]
  },
  {
   "cell_type": "code",
   "execution_count": 35,
   "id": "b9f73ae8-5537-41b0-9ea0-da004aca4a26",
   "metadata": {
    "tags": []
   },
   "outputs": [
    {
     "data": {
      "text/plain": [
       "{1, 2, 3}"
      ]
     },
     "execution_count": 35,
     "metadata": {},
     "output_type": "execute_result"
    }
   ],
   "source": [
    "{1,1,2,2,3,3}"
   ]
  }
 ],
 "metadata": {
  "kernelspec": {
   "display_name": "Python 3 (ipykernel)",
   "language": "python",
   "name": "python3"
  },
  "language_info": {
   "codemirror_mode": {
    "name": "ipython",
    "version": 3
   },
   "file_extension": ".py",
   "mimetype": "text/x-python",
   "name": "python",
   "nbconvert_exporter": "python",
   "pygments_lexer": "ipython3",
   "version": "3.11.4"
  }
 },
 "nbformat": 4,
 "nbformat_minor": 5
}
