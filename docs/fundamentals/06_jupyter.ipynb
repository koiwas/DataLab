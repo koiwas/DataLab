{
 "cells": [
  {
   "cell_type": "markdown",
   "metadata": {},
   "source": [
    "# JupyterLabの基本操作"
   ]
  },
  {
   "cell_type": "markdown",
   "metadata": {},
   "source": [
    "## モードの切替"
   ]
  },
  {
   "cell_type": "markdown",
   "metadata": {},
   "source": [
    "- コマンドモード：ESC\n",
    "- 編集モード：Enter"
   ]
  },
  {
   "cell_type": "markdown",
   "metadata": {},
   "source": [
    "## セルの切替"
   ]
  },
  {
   "cell_type": "markdown",
   "metadata": {},
   "source": [
    "- Markdown：ESC→M\n",
    "- Code：ESC→Y"
   ]
  },
  {
   "cell_type": "markdown",
   "metadata": {},
   "source": [
    "## セルの操作"
   ]
  },
  {
   "cell_type": "markdown",
   "metadata": {},
   "source": [
    "- セル追加（上）：ESC→A\n",
    "- セル追加（下）：ESC→B\n",
    "- セル削除：ESC→D→D\n",
    "- 実行：Shift+Enter\n",
    "- 実行（セル追加）：Alt+Enter"
   ]
  }
 ],
 "metadata": {
  "language_info": {
   "name": "python"
  }
 },
 "nbformat": 4,
 "nbformat_minor": 2
}
